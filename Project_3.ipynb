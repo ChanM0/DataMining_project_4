{
 "cells": [
  {
   "cell_type": "code",
   "execution_count": 11,
   "metadata": {},
   "outputs": [],
   "source": [
    "import pandas as pd\n",
    "import numpy as np\n",
    "from pyspark.conf import SparkConf\n",
    "from pyspark.context import SparkContext\n",
    "from pyspark.sql import HiveContext\n",
    "\n",
    "from pyspark.sql import SparkSession"
   ]
  },
  {
   "cell_type": "code",
   "execution_count": 12,
   "metadata": {},
   "outputs": [],
   "source": [
    "sample_submission = \"./sample_submission.csv\"\n",
    "departments = \"./departments.csv\"\n",
    "order_products__prior = \"./order_products__prior.csv\"\n",
    "order_products__train = \"./order_products__train.csv\"\n",
    "orders = \"./orders.csv\"\n",
    "products = \"./products.csv\"\n",
    "aisles = \"./aisles.csv\""
   ]
  },
  {
   "cell_type": "code",
   "execution_count": 13,
   "metadata": {},
   "outputs": [],
   "source": [
    "sample_submission_df = pd.read_csv(sample_submission)"
   ]
  },
  {
   "cell_type": "code",
   "execution_count": 14,
   "metadata": {},
   "outputs": [],
   "source": [
    "departments_df = pd.read_csv(departments)"
   ]
  },
  {
   "cell_type": "code",
   "execution_count": 15,
   "metadata": {},
   "outputs": [],
   "source": [
    "order_products__prior_df = pd.read_csv(order_products__prior)"
   ]
  },
  {
   "cell_type": "code",
   "execution_count": 16,
   "metadata": {},
   "outputs": [],
   "source": [
    "order_products__train_df = pd.read_csv(order_products__train)"
   ]
  },
  {
   "cell_type": "code",
   "execution_count": 17,
   "metadata": {},
   "outputs": [],
   "source": [
    "orders_df = pd.read_csv(orders)"
   ]
  },
  {
   "cell_type": "code",
   "execution_count": 18,
   "metadata": {},
   "outputs": [],
   "source": [
    "products_df = pd.read_csv(products)"
   ]
  },
  {
   "cell_type": "code",
   "execution_count": 19,
   "metadata": {},
   "outputs": [],
   "source": [
    "aisles_df = pd.read_csv(aisles)"
   ]
  },
  {
   "cell_type": "code",
   "execution_count": null,
   "metadata": {},
   "outputs": [],
   "source": []
  },
  {
   "cell_type": "code",
   "execution_count": 26,
   "metadata": {},
   "outputs": [
    {
     "data": {
      "text/plain": [
       "Index(['order_id', 'products'], dtype='object')"
      ]
     },
     "execution_count": 26,
     "metadata": {},
     "output_type": "execute_result"
    }
   ],
   "source": [
    "sample_submission_cols = sample_submission_df.columns\n",
    "sample_submission_cols"
   ]
  },
  {
   "cell_type": "code",
   "execution_count": 27,
   "metadata": {},
   "outputs": [
    {
     "data": {
      "text/plain": [
       "Index(['department_id', 'department'], dtype='object')"
      ]
     },
     "execution_count": 27,
     "metadata": {},
     "output_type": "execute_result"
    }
   ],
   "source": [
    "departments_cols = departments_df.columns\n",
    "departments_cols"
   ]
  },
  {
   "cell_type": "code",
   "execution_count": 28,
   "metadata": {},
   "outputs": [
    {
     "data": {
      "text/plain": [
       "Index(['order_id', 'product_id', 'add_to_cart_order', 'reordered'], dtype='object')"
      ]
     },
     "execution_count": 28,
     "metadata": {},
     "output_type": "execute_result"
    }
   ],
   "source": [
    "order_products__prior_cols = order_products__prior_df.columns\n",
    "order_products__prior_cols"
   ]
  },
  {
   "cell_type": "code",
   "execution_count": 29,
   "metadata": {},
   "outputs": [
    {
     "data": {
      "text/plain": [
       "Index(['order_id', 'product_id', 'add_to_cart_order', 'reordered'], dtype='object')"
      ]
     },
     "execution_count": 29,
     "metadata": {},
     "output_type": "execute_result"
    }
   ],
   "source": [
    "order_products__train_cols = order_products__train_df.columns\n",
    "order_products__train_cols"
   ]
  },
  {
   "cell_type": "code",
   "execution_count": 30,
   "metadata": {},
   "outputs": [
    {
     "data": {
      "text/plain": [
       "Index(['order_id', 'user_id', 'eval_set', 'order_number', 'order_dow',\n",
       "       'order_hour_of_day', 'days_since_prior_order'],\n",
       "      dtype='object')"
      ]
     },
     "execution_count": 30,
     "metadata": {},
     "output_type": "execute_result"
    }
   ],
   "source": [
    "orders_cols = orders_df.columns\n",
    "orders_cols"
   ]
  },
  {
   "cell_type": "code",
   "execution_count": 31,
   "metadata": {},
   "outputs": [
    {
     "data": {
      "text/plain": [
       "Index(['product_id', 'product_name', 'aisle_id', 'department_id'], dtype='object')"
      ]
     },
     "execution_count": 31,
     "metadata": {},
     "output_type": "execute_result"
    }
   ],
   "source": [
    "products_cols = products_df.columns\n",
    "products_cols"
   ]
  },
  {
   "cell_type": "code",
   "execution_count": 32,
   "metadata": {},
   "outputs": [
    {
     "data": {
      "text/plain": [
       "Index(['aisle_id', 'aisle'], dtype='object')"
      ]
     },
     "execution_count": 32,
     "metadata": {},
     "output_type": "execute_result"
    }
   ],
   "source": [
    "aisles_cols = aisles_df.columns\n",
    "aisles_cols"
   ]
  },
  {
   "cell_type": "code",
   "execution_count": 33,
   "metadata": {},
   "outputs": [
    {
     "data": {
      "text/plain": [
       "aisle_id    134\n",
       "aisle       134\n",
       "dtype: int64"
      ]
     },
     "execution_count": 33,
     "metadata": {},
     "output_type": "execute_result"
    }
   ],
   "source": [
    "aisles_df[aisles_cols].count()"
   ]
  },
  {
   "cell_type": "code",
   "execution_count": 34,
   "metadata": {},
   "outputs": [
    {
     "data": {
      "text/plain": [
       "department_id    21\n",
       "department       21\n",
       "dtype: int64"
      ]
     },
     "execution_count": 34,
     "metadata": {},
     "output_type": "execute_result"
    }
   ],
   "source": [
    "departments_df[departments_cols].count()"
   ]
  },
  {
   "cell_type": "code",
   "execution_count": 35,
   "metadata": {},
   "outputs": [
    {
     "data": {
      "text/plain": [
       "product_id       49688\n",
       "product_name     49688\n",
       "aisle_id         49688\n",
       "department_id    49688\n",
       "dtype: int64"
      ]
     },
     "execution_count": 35,
     "metadata": {},
     "output_type": "execute_result"
    }
   ],
   "source": [
    "products_df[products_cols].count()"
   ]
  },
  {
   "cell_type": "code",
   "execution_count": 36,
   "metadata": {},
   "outputs": [
    {
     "data": {
      "text/plain": [
       "order_id             32434489\n",
       "product_id           32434489\n",
       "add_to_cart_order    32434489\n",
       "reordered            32434489\n",
       "dtype: int64"
      ]
     },
     "execution_count": 36,
     "metadata": {},
     "output_type": "execute_result"
    }
   ],
   "source": [
    "order_products__prior_df[order_products__prior_cols].count()"
   ]
  },
  {
   "cell_type": "code",
   "execution_count": 37,
   "metadata": {},
   "outputs": [
    {
     "data": {
      "text/plain": [
       "order_id             1384617\n",
       "product_id           1384617\n",
       "add_to_cart_order    1384617\n",
       "reordered            1384617\n",
       "dtype: int64"
      ]
     },
     "execution_count": 37,
     "metadata": {},
     "output_type": "execute_result"
    }
   ],
   "source": [
    "order_products__train_df[order_products__train_cols].count()"
   ]
  },
  {
   "cell_type": "code",
   "execution_count": 38,
   "metadata": {},
   "outputs": [
    {
     "data": {
      "text/plain": [
       "order_id                  3421083\n",
       "user_id                   3421083\n",
       "eval_set                  3421083\n",
       "order_number              3421083\n",
       "order_dow                 3421083\n",
       "order_hour_of_day         3421083\n",
       "days_since_prior_order    3214874\n",
       "dtype: int64"
      ]
     },
     "execution_count": 38,
     "metadata": {},
     "output_type": "execute_result"
    }
   ],
   "source": [
    "orders_df[orders_cols].count()"
   ]
  },
  {
   "cell_type": "code",
   "execution_count": 39,
   "metadata": {},
   "outputs": [
    {
     "data": {
      "text/plain": [
       "order_id    75000\n",
       "products    75000\n",
       "dtype: int64"
      ]
     },
     "execution_count": 39,
     "metadata": {},
     "output_type": "execute_result"
    }
   ],
   "source": [
    "sample_submission_df[sample_submission_cols].count()"
   ]
  },
  {
   "cell_type": "code",
   "execution_count": null,
   "metadata": {},
   "outputs": [],
   "source": []
  },
  {
   "cell_type": "code",
   "execution_count": null,
   "metadata": {},
   "outputs": [],
   "source": []
  },
  {
   "cell_type": "code",
   "execution_count": 41,
   "metadata": {},
   "outputs": [],
   "source": [
    "# aisles_df[aisles_cols].describe()"
   ]
  },
  {
   "cell_type": "code",
   "execution_count": 43,
   "metadata": {},
   "outputs": [],
   "source": [
    "# departments_df[departments_cols].describe()"
   ]
  },
  {
   "cell_type": "code",
   "execution_count": 44,
   "metadata": {},
   "outputs": [
    {
     "data": {
      "text/html": [
       "<div>\n",
       "<style scoped>\n",
       "    .dataframe tbody tr th:only-of-type {\n",
       "        vertical-align: middle;\n",
       "    }\n",
       "\n",
       "    .dataframe tbody tr th {\n",
       "        vertical-align: top;\n",
       "    }\n",
       "\n",
       "    .dataframe thead th {\n",
       "        text-align: right;\n",
       "    }\n",
       "</style>\n",
       "<table border=\"1\" class=\"dataframe\">\n",
       "  <thead>\n",
       "    <tr style=\"text-align: right;\">\n",
       "      <th></th>\n",
       "      <th>product_id</th>\n",
       "      <th>aisle_id</th>\n",
       "      <th>department_id</th>\n",
       "    </tr>\n",
       "  </thead>\n",
       "  <tbody>\n",
       "    <tr>\n",
       "      <th>count</th>\n",
       "      <td>49688.000000</td>\n",
       "      <td>49688.000000</td>\n",
       "      <td>49688.000000</td>\n",
       "    </tr>\n",
       "    <tr>\n",
       "      <th>mean</th>\n",
       "      <td>24844.500000</td>\n",
       "      <td>67.769582</td>\n",
       "      <td>11.728687</td>\n",
       "    </tr>\n",
       "    <tr>\n",
       "      <th>std</th>\n",
       "      <td>14343.834425</td>\n",
       "      <td>38.316162</td>\n",
       "      <td>5.850410</td>\n",
       "    </tr>\n",
       "    <tr>\n",
       "      <th>min</th>\n",
       "      <td>1.000000</td>\n",
       "      <td>1.000000</td>\n",
       "      <td>1.000000</td>\n",
       "    </tr>\n",
       "    <tr>\n",
       "      <th>25%</th>\n",
       "      <td>12422.750000</td>\n",
       "      <td>35.000000</td>\n",
       "      <td>7.000000</td>\n",
       "    </tr>\n",
       "    <tr>\n",
       "      <th>50%</th>\n",
       "      <td>24844.500000</td>\n",
       "      <td>69.000000</td>\n",
       "      <td>13.000000</td>\n",
       "    </tr>\n",
       "    <tr>\n",
       "      <th>75%</th>\n",
       "      <td>37266.250000</td>\n",
       "      <td>100.000000</td>\n",
       "      <td>17.000000</td>\n",
       "    </tr>\n",
       "    <tr>\n",
       "      <th>max</th>\n",
       "      <td>49688.000000</td>\n",
       "      <td>134.000000</td>\n",
       "      <td>21.000000</td>\n",
       "    </tr>\n",
       "  </tbody>\n",
       "</table>\n",
       "</div>"
      ],
      "text/plain": [
       "         product_id      aisle_id  department_id\n",
       "count  49688.000000  49688.000000   49688.000000\n",
       "mean   24844.500000     67.769582      11.728687\n",
       "std    14343.834425     38.316162       5.850410\n",
       "min        1.000000      1.000000       1.000000\n",
       "25%    12422.750000     35.000000       7.000000\n",
       "50%    24844.500000     69.000000      13.000000\n",
       "75%    37266.250000    100.000000      17.000000\n",
       "max    49688.000000    134.000000      21.000000"
      ]
     },
     "execution_count": 44,
     "metadata": {},
     "output_type": "execute_result"
    }
   ],
   "source": [
    "products_df[products_cols].describe()"
   ]
  },
  {
   "cell_type": "code",
   "execution_count": 45,
   "metadata": {},
   "outputs": [
    {
     "data": {
      "text/html": [
       "<div>\n",
       "<style scoped>\n",
       "    .dataframe tbody tr th:only-of-type {\n",
       "        vertical-align: middle;\n",
       "    }\n",
       "\n",
       "    .dataframe tbody tr th {\n",
       "        vertical-align: top;\n",
       "    }\n",
       "\n",
       "    .dataframe thead th {\n",
       "        text-align: right;\n",
       "    }\n",
       "</style>\n",
       "<table border=\"1\" class=\"dataframe\">\n",
       "  <thead>\n",
       "    <tr style=\"text-align: right;\">\n",
       "      <th></th>\n",
       "      <th>order_id</th>\n",
       "      <th>product_id</th>\n",
       "      <th>add_to_cart_order</th>\n",
       "      <th>reordered</th>\n",
       "    </tr>\n",
       "  </thead>\n",
       "  <tbody>\n",
       "    <tr>\n",
       "      <th>count</th>\n",
       "      <td>3.243449e+07</td>\n",
       "      <td>3.243449e+07</td>\n",
       "      <td>3.243449e+07</td>\n",
       "      <td>3.243449e+07</td>\n",
       "    </tr>\n",
       "    <tr>\n",
       "      <th>mean</th>\n",
       "      <td>1.710749e+06</td>\n",
       "      <td>2.557634e+04</td>\n",
       "      <td>8.351076e+00</td>\n",
       "      <td>5.896975e-01</td>\n",
       "    </tr>\n",
       "    <tr>\n",
       "      <th>std</th>\n",
       "      <td>9.873007e+05</td>\n",
       "      <td>1.409669e+04</td>\n",
       "      <td>7.126671e+00</td>\n",
       "      <td>4.918886e-01</td>\n",
       "    </tr>\n",
       "    <tr>\n",
       "      <th>min</th>\n",
       "      <td>2.000000e+00</td>\n",
       "      <td>1.000000e+00</td>\n",
       "      <td>1.000000e+00</td>\n",
       "      <td>0.000000e+00</td>\n",
       "    </tr>\n",
       "    <tr>\n",
       "      <th>25%</th>\n",
       "      <td>8.559430e+05</td>\n",
       "      <td>1.353000e+04</td>\n",
       "      <td>3.000000e+00</td>\n",
       "      <td>0.000000e+00</td>\n",
       "    </tr>\n",
       "    <tr>\n",
       "      <th>50%</th>\n",
       "      <td>1.711048e+06</td>\n",
       "      <td>2.525600e+04</td>\n",
       "      <td>6.000000e+00</td>\n",
       "      <td>1.000000e+00</td>\n",
       "    </tr>\n",
       "    <tr>\n",
       "      <th>75%</th>\n",
       "      <td>2.565514e+06</td>\n",
       "      <td>3.793500e+04</td>\n",
       "      <td>1.100000e+01</td>\n",
       "      <td>1.000000e+00</td>\n",
       "    </tr>\n",
       "    <tr>\n",
       "      <th>max</th>\n",
       "      <td>3.421083e+06</td>\n",
       "      <td>4.968800e+04</td>\n",
       "      <td>1.450000e+02</td>\n",
       "      <td>1.000000e+00</td>\n",
       "    </tr>\n",
       "  </tbody>\n",
       "</table>\n",
       "</div>"
      ],
      "text/plain": [
       "           order_id    product_id  add_to_cart_order     reordered\n",
       "count  3.243449e+07  3.243449e+07       3.243449e+07  3.243449e+07\n",
       "mean   1.710749e+06  2.557634e+04       8.351076e+00  5.896975e-01\n",
       "std    9.873007e+05  1.409669e+04       7.126671e+00  4.918886e-01\n",
       "min    2.000000e+00  1.000000e+00       1.000000e+00  0.000000e+00\n",
       "25%    8.559430e+05  1.353000e+04       3.000000e+00  0.000000e+00\n",
       "50%    1.711048e+06  2.525600e+04       6.000000e+00  1.000000e+00\n",
       "75%    2.565514e+06  3.793500e+04       1.100000e+01  1.000000e+00\n",
       "max    3.421083e+06  4.968800e+04       1.450000e+02  1.000000e+00"
      ]
     },
     "execution_count": 45,
     "metadata": {},
     "output_type": "execute_result"
    }
   ],
   "source": [
    "order_products__prior_df[order_products__prior_cols].describe()"
   ]
  },
  {
   "cell_type": "code",
   "execution_count": 46,
   "metadata": {},
   "outputs": [
    {
     "data": {
      "text/html": [
       "<div>\n",
       "<style scoped>\n",
       "    .dataframe tbody tr th:only-of-type {\n",
       "        vertical-align: middle;\n",
       "    }\n",
       "\n",
       "    .dataframe tbody tr th {\n",
       "        vertical-align: top;\n",
       "    }\n",
       "\n",
       "    .dataframe thead th {\n",
       "        text-align: right;\n",
       "    }\n",
       "</style>\n",
       "<table border=\"1\" class=\"dataframe\">\n",
       "  <thead>\n",
       "    <tr style=\"text-align: right;\">\n",
       "      <th></th>\n",
       "      <th>order_id</th>\n",
       "      <th>product_id</th>\n",
       "      <th>add_to_cart_order</th>\n",
       "      <th>reordered</th>\n",
       "    </tr>\n",
       "  </thead>\n",
       "  <tbody>\n",
       "    <tr>\n",
       "      <th>count</th>\n",
       "      <td>1.384617e+06</td>\n",
       "      <td>1.384617e+06</td>\n",
       "      <td>1.384617e+06</td>\n",
       "      <td>1.384617e+06</td>\n",
       "    </tr>\n",
       "    <tr>\n",
       "      <th>mean</th>\n",
       "      <td>1.706298e+06</td>\n",
       "      <td>2.555624e+04</td>\n",
       "      <td>8.758044e+00</td>\n",
       "      <td>5.985944e-01</td>\n",
       "    </tr>\n",
       "    <tr>\n",
       "      <th>std</th>\n",
       "      <td>9.897326e+05</td>\n",
       "      <td>1.412127e+04</td>\n",
       "      <td>7.423936e+00</td>\n",
       "      <td>4.901829e-01</td>\n",
       "    </tr>\n",
       "    <tr>\n",
       "      <th>min</th>\n",
       "      <td>1.000000e+00</td>\n",
       "      <td>1.000000e+00</td>\n",
       "      <td>1.000000e+00</td>\n",
       "      <td>0.000000e+00</td>\n",
       "    </tr>\n",
       "    <tr>\n",
       "      <th>25%</th>\n",
       "      <td>8.433700e+05</td>\n",
       "      <td>1.338000e+04</td>\n",
       "      <td>3.000000e+00</td>\n",
       "      <td>0.000000e+00</td>\n",
       "    </tr>\n",
       "    <tr>\n",
       "      <th>50%</th>\n",
       "      <td>1.701880e+06</td>\n",
       "      <td>2.529800e+04</td>\n",
       "      <td>7.000000e+00</td>\n",
       "      <td>1.000000e+00</td>\n",
       "    </tr>\n",
       "    <tr>\n",
       "      <th>75%</th>\n",
       "      <td>2.568023e+06</td>\n",
       "      <td>3.794000e+04</td>\n",
       "      <td>1.200000e+01</td>\n",
       "      <td>1.000000e+00</td>\n",
       "    </tr>\n",
       "    <tr>\n",
       "      <th>max</th>\n",
       "      <td>3.421070e+06</td>\n",
       "      <td>4.968800e+04</td>\n",
       "      <td>8.000000e+01</td>\n",
       "      <td>1.000000e+00</td>\n",
       "    </tr>\n",
       "  </tbody>\n",
       "</table>\n",
       "</div>"
      ],
      "text/plain": [
       "           order_id    product_id  add_to_cart_order     reordered\n",
       "count  1.384617e+06  1.384617e+06       1.384617e+06  1.384617e+06\n",
       "mean   1.706298e+06  2.555624e+04       8.758044e+00  5.985944e-01\n",
       "std    9.897326e+05  1.412127e+04       7.423936e+00  4.901829e-01\n",
       "min    1.000000e+00  1.000000e+00       1.000000e+00  0.000000e+00\n",
       "25%    8.433700e+05  1.338000e+04       3.000000e+00  0.000000e+00\n",
       "50%    1.701880e+06  2.529800e+04       7.000000e+00  1.000000e+00\n",
       "75%    2.568023e+06  3.794000e+04       1.200000e+01  1.000000e+00\n",
       "max    3.421070e+06  4.968800e+04       8.000000e+01  1.000000e+00"
      ]
     },
     "execution_count": 46,
     "metadata": {},
     "output_type": "execute_result"
    }
   ],
   "source": [
    "order_products__train_df[order_products__train_cols].describe()"
   ]
  },
  {
   "cell_type": "code",
   "execution_count": 47,
   "metadata": {},
   "outputs": [
    {
     "data": {
      "text/html": [
       "<div>\n",
       "<style scoped>\n",
       "    .dataframe tbody tr th:only-of-type {\n",
       "        vertical-align: middle;\n",
       "    }\n",
       "\n",
       "    .dataframe tbody tr th {\n",
       "        vertical-align: top;\n",
       "    }\n",
       "\n",
       "    .dataframe thead th {\n",
       "        text-align: right;\n",
       "    }\n",
       "</style>\n",
       "<table border=\"1\" class=\"dataframe\">\n",
       "  <thead>\n",
       "    <tr style=\"text-align: right;\">\n",
       "      <th></th>\n",
       "      <th>order_id</th>\n",
       "      <th>user_id</th>\n",
       "      <th>order_number</th>\n",
       "      <th>order_dow</th>\n",
       "      <th>order_hour_of_day</th>\n",
       "      <th>days_since_prior_order</th>\n",
       "    </tr>\n",
       "  </thead>\n",
       "  <tbody>\n",
       "    <tr>\n",
       "      <th>count</th>\n",
       "      <td>3.421083e+06</td>\n",
       "      <td>3.421083e+06</td>\n",
       "      <td>3.421083e+06</td>\n",
       "      <td>3.421083e+06</td>\n",
       "      <td>3.421083e+06</td>\n",
       "      <td>3.214874e+06</td>\n",
       "    </tr>\n",
       "    <tr>\n",
       "      <th>mean</th>\n",
       "      <td>1.710542e+06</td>\n",
       "      <td>1.029782e+05</td>\n",
       "      <td>1.715486e+01</td>\n",
       "      <td>2.776219e+00</td>\n",
       "      <td>1.345202e+01</td>\n",
       "      <td>1.111484e+01</td>\n",
       "    </tr>\n",
       "    <tr>\n",
       "      <th>std</th>\n",
       "      <td>9.875817e+05</td>\n",
       "      <td>5.953372e+04</td>\n",
       "      <td>1.773316e+01</td>\n",
       "      <td>2.046829e+00</td>\n",
       "      <td>4.226088e+00</td>\n",
       "      <td>9.206737e+00</td>\n",
       "    </tr>\n",
       "    <tr>\n",
       "      <th>min</th>\n",
       "      <td>1.000000e+00</td>\n",
       "      <td>1.000000e+00</td>\n",
       "      <td>1.000000e+00</td>\n",
       "      <td>0.000000e+00</td>\n",
       "      <td>0.000000e+00</td>\n",
       "      <td>0.000000e+00</td>\n",
       "    </tr>\n",
       "    <tr>\n",
       "      <th>25%</th>\n",
       "      <td>8.552715e+05</td>\n",
       "      <td>5.139400e+04</td>\n",
       "      <td>5.000000e+00</td>\n",
       "      <td>1.000000e+00</td>\n",
       "      <td>1.000000e+01</td>\n",
       "      <td>4.000000e+00</td>\n",
       "    </tr>\n",
       "    <tr>\n",
       "      <th>50%</th>\n",
       "      <td>1.710542e+06</td>\n",
       "      <td>1.026890e+05</td>\n",
       "      <td>1.100000e+01</td>\n",
       "      <td>3.000000e+00</td>\n",
       "      <td>1.300000e+01</td>\n",
       "      <td>7.000000e+00</td>\n",
       "    </tr>\n",
       "    <tr>\n",
       "      <th>75%</th>\n",
       "      <td>2.565812e+06</td>\n",
       "      <td>1.543850e+05</td>\n",
       "      <td>2.300000e+01</td>\n",
       "      <td>5.000000e+00</td>\n",
       "      <td>1.600000e+01</td>\n",
       "      <td>1.500000e+01</td>\n",
       "    </tr>\n",
       "    <tr>\n",
       "      <th>max</th>\n",
       "      <td>3.421083e+06</td>\n",
       "      <td>2.062090e+05</td>\n",
       "      <td>1.000000e+02</td>\n",
       "      <td>6.000000e+00</td>\n",
       "      <td>2.300000e+01</td>\n",
       "      <td>3.000000e+01</td>\n",
       "    </tr>\n",
       "  </tbody>\n",
       "</table>\n",
       "</div>"
      ],
      "text/plain": [
       "           order_id       user_id  order_number     order_dow  \\\n",
       "count  3.421083e+06  3.421083e+06  3.421083e+06  3.421083e+06   \n",
       "mean   1.710542e+06  1.029782e+05  1.715486e+01  2.776219e+00   \n",
       "std    9.875817e+05  5.953372e+04  1.773316e+01  2.046829e+00   \n",
       "min    1.000000e+00  1.000000e+00  1.000000e+00  0.000000e+00   \n",
       "25%    8.552715e+05  5.139400e+04  5.000000e+00  1.000000e+00   \n",
       "50%    1.710542e+06  1.026890e+05  1.100000e+01  3.000000e+00   \n",
       "75%    2.565812e+06  1.543850e+05  2.300000e+01  5.000000e+00   \n",
       "max    3.421083e+06  2.062090e+05  1.000000e+02  6.000000e+00   \n",
       "\n",
       "       order_hour_of_day  days_since_prior_order  \n",
       "count       3.421083e+06            3.214874e+06  \n",
       "mean        1.345202e+01            1.111484e+01  \n",
       "std         4.226088e+00            9.206737e+00  \n",
       "min         0.000000e+00            0.000000e+00  \n",
       "25%         1.000000e+01            4.000000e+00  \n",
       "50%         1.300000e+01            7.000000e+00  \n",
       "75%         1.600000e+01            1.500000e+01  \n",
       "max         2.300000e+01            3.000000e+01  "
      ]
     },
     "execution_count": 47,
     "metadata": {},
     "output_type": "execute_result"
    }
   ],
   "source": [
    "orders_df[orders_cols].describe()"
   ]
  },
  {
   "cell_type": "code",
   "execution_count": 48,
   "metadata": {},
   "outputs": [
    {
     "data": {
      "text/html": [
       "<div>\n",
       "<style scoped>\n",
       "    .dataframe tbody tr th:only-of-type {\n",
       "        vertical-align: middle;\n",
       "    }\n",
       "\n",
       "    .dataframe tbody tr th {\n",
       "        vertical-align: top;\n",
       "    }\n",
       "\n",
       "    .dataframe thead th {\n",
       "        text-align: right;\n",
       "    }\n",
       "</style>\n",
       "<table border=\"1\" class=\"dataframe\">\n",
       "  <thead>\n",
       "    <tr style=\"text-align: right;\">\n",
       "      <th></th>\n",
       "      <th>order_id</th>\n",
       "    </tr>\n",
       "  </thead>\n",
       "  <tbody>\n",
       "    <tr>\n",
       "      <th>count</th>\n",
       "      <td>7.500000e+04</td>\n",
       "    </tr>\n",
       "    <tr>\n",
       "      <th>mean</th>\n",
       "      <td>1.709686e+06</td>\n",
       "    </tr>\n",
       "    <tr>\n",
       "      <th>std</th>\n",
       "      <td>9.878542e+05</td>\n",
       "    </tr>\n",
       "    <tr>\n",
       "      <th>min</th>\n",
       "      <td>1.700000e+01</td>\n",
       "    </tr>\n",
       "    <tr>\n",
       "      <th>25%</th>\n",
       "      <td>8.557232e+05</td>\n",
       "    </tr>\n",
       "    <tr>\n",
       "      <th>50%</th>\n",
       "      <td>1.710152e+06</td>\n",
       "    </tr>\n",
       "    <tr>\n",
       "      <th>75%</th>\n",
       "      <td>2.562794e+06</td>\n",
       "    </tr>\n",
       "    <tr>\n",
       "      <th>max</th>\n",
       "      <td>3.421054e+06</td>\n",
       "    </tr>\n",
       "  </tbody>\n",
       "</table>\n",
       "</div>"
      ],
      "text/plain": [
       "           order_id\n",
       "count  7.500000e+04\n",
       "mean   1.709686e+06\n",
       "std    9.878542e+05\n",
       "min    1.700000e+01\n",
       "25%    8.557232e+05\n",
       "50%    1.710152e+06\n",
       "75%    2.562794e+06\n",
       "max    3.421054e+06"
      ]
     },
     "execution_count": 48,
     "metadata": {},
     "output_type": "execute_result"
    }
   ],
   "source": [
    "sample_submission_df[sample_submission_cols].describe()"
   ]
  },
  {
   "cell_type": "code",
   "execution_count": null,
   "metadata": {},
   "outputs": [],
   "source": []
  },
  {
   "cell_type": "code",
   "execution_count": null,
   "metadata": {},
   "outputs": [],
   "source": [
    "# sample_submission_df['order_id']\n",
    "# sample_submission_df['products']\n",
    "\n",
    "# departments_df['department_id']\n",
    "# departments_df['department']\n",
    "\n",
    "# order_products__prior_df['order_id']\n",
    "# order_products__prior_df['product_id']\n",
    "# order_products__prior_df['add_to_cart_order']\n",
    "# order_products__prior_df['reordered']\n",
    "\n",
    "# order_products__train_df['order_id']\n",
    "# order_products__train_df['product_id']\n",
    "# order_products__train_df['add_to_cart_order']\n",
    "# order_products__train_df['reordered']\n",
    "\n",
    "# orders_df['order_id']\n",
    "# orders_df['user_id']\n",
    "# orders_df['eval_set']\n",
    "# orders_df['order_number']\n",
    "# orders_df['order_dow']\n",
    "# orders_df['order_hour_of_day']\n",
    "# orders_df['days_since_prior_order']\n",
    "\n",
    "# products_df['product_id']\n",
    "# products_df['product_name']\n",
    "# products_df['aisle_id']\n",
    "# products_df['department_id']\n",
    "\n",
    "# aisles_df['aisle_id']\n",
    "# aisles_df['aisle']"
   ]
  },
  {
   "cell_type": "code",
   "execution_count": null,
   "metadata": {},
   "outputs": [],
   "source": []
  },
  {
   "cell_type": "code",
   "execution_count": 54,
   "metadata": {},
   "outputs": [
    {
     "data": {
      "text/plain": [
       "0        0\n",
       "1        0\n",
       "2        0\n",
       "3        0\n",
       "4        0\n",
       "5        0\n",
       "6        0\n",
       "7        0\n",
       "8        0\n",
       "9        0\n",
       "10       0\n",
       "11       0\n",
       "12       0\n",
       "13       0\n",
       "14       0\n",
       "15       0\n",
       "16       0\n",
       "17       0\n",
       "18       0\n",
       "19       0\n",
       "20       0\n",
       "21       0\n",
       "22       0\n",
       "23       0\n",
       "24       0\n",
       "25       0\n",
       "26       0\n",
       "27       0\n",
       "28       0\n",
       "29       0\n",
       "        ..\n",
       "74970    3\n",
       "74971    3\n",
       "74972    3\n",
       "74973    3\n",
       "74974    3\n",
       "74975    3\n",
       "74976    3\n",
       "74977    3\n",
       "74978    3\n",
       "74979    3\n",
       "74980    3\n",
       "74981    3\n",
       "74982    3\n",
       "74983    3\n",
       "74984    3\n",
       "74985    3\n",
       "74986    3\n",
       "74987    3\n",
       "74988    3\n",
       "74989    3\n",
       "74990    3\n",
       "74991    3\n",
       "74992    3\n",
       "74993    3\n",
       "74994    3\n",
       "74995    3\n",
       "74996    3\n",
       "74997    3\n",
       "74998    3\n",
       "74999    3\n",
       "Name: order_id, Length: 75000, dtype: int64"
      ]
     },
     "execution_count": 54,
     "metadata": {},
     "output_type": "execute_result"
    }
   ],
   "source": [
    "pd.qcut(sample_submission_df['order_id'], 4, labels=False)"
   ]
  },
  {
   "cell_type": "code",
   "execution_count": 56,
   "metadata": {},
   "outputs": [
    {
     "data": {
      "text/plain": [
       "0           0\n",
       "1           0\n",
       "2           0\n",
       "3           0\n",
       "4           0\n",
       "5           0\n",
       "6           0\n",
       "7           0\n",
       "8           0\n",
       "9           0\n",
       "10          0\n",
       "11          0\n",
       "12          0\n",
       "13          0\n",
       "14          0\n",
       "15          0\n",
       "16          0\n",
       "17          0\n",
       "18          0\n",
       "19          0\n",
       "20          0\n",
       "21          0\n",
       "22          0\n",
       "23          0\n",
       "24          0\n",
       "25          0\n",
       "26          0\n",
       "27          0\n",
       "28          0\n",
       "29          0\n",
       "           ..\n",
       "32434459    3\n",
       "32434460    3\n",
       "32434461    3\n",
       "32434462    3\n",
       "32434463    3\n",
       "32434464    3\n",
       "32434465    3\n",
       "32434466    3\n",
       "32434467    3\n",
       "32434468    3\n",
       "32434469    3\n",
       "32434470    3\n",
       "32434471    3\n",
       "32434472    3\n",
       "32434473    3\n",
       "32434474    3\n",
       "32434475    3\n",
       "32434476    3\n",
       "32434477    3\n",
       "32434478    3\n",
       "32434479    3\n",
       "32434480    3\n",
       "32434481    3\n",
       "32434482    3\n",
       "32434483    3\n",
       "32434484    3\n",
       "32434485    3\n",
       "32434486    3\n",
       "32434487    3\n",
       "32434488    3\n",
       "Name: order_id, Length: 32434489, dtype: int64"
      ]
     },
     "execution_count": 56,
     "metadata": {},
     "output_type": "execute_result"
    }
   ],
   "source": [
    "pd.qcut(order_products__prior_df['order_id'], 4, labels=False)"
   ]
  },
  {
   "cell_type": "code",
   "execution_count": 57,
   "metadata": {},
   "outputs": [
    {
     "data": {
      "text/plain": [
       "0           2\n",
       "1           2\n",
       "2           0\n",
       "3           3\n",
       "4           2\n",
       "5           1\n",
       "6           3\n",
       "7           0\n",
       "8           3\n",
       "9           2\n",
       "10          1\n",
       "11          1\n",
       "12          1\n",
       "13          1\n",
       "14          3\n",
       "15          1\n",
       "16          2\n",
       "17          3\n",
       "18          2\n",
       "19          3\n",
       "20          2\n",
       "21          0\n",
       "22          1\n",
       "23          1\n",
       "24          2\n",
       "25          3\n",
       "26          1\n",
       "27          1\n",
       "28          2\n",
       "29          3\n",
       "           ..\n",
       "32434459    3\n",
       "32434460    2\n",
       "32434461    0\n",
       "32434462    1\n",
       "32434463    0\n",
       "32434464    3\n",
       "32434465    3\n",
       "32434466    0\n",
       "32434467    2\n",
       "32434468    0\n",
       "32434469    1\n",
       "32434470    2\n",
       "32434471    0\n",
       "32434472    1\n",
       "32434473    0\n",
       "32434474    1\n",
       "32434475    3\n",
       "32434476    2\n",
       "32434477    0\n",
       "32434478    3\n",
       "32434479    0\n",
       "32434480    3\n",
       "32434481    1\n",
       "32434482    1\n",
       "32434483    2\n",
       "32434484    3\n",
       "32434485    0\n",
       "32434486    0\n",
       "32434487    1\n",
       "32434488    0\n",
       "Name: product_id, Length: 32434489, dtype: int64"
      ]
     },
     "execution_count": 57,
     "metadata": {},
     "output_type": "execute_result"
    }
   ],
   "source": [
    "pd.qcut(order_products__prior_df['product_id'], 4, labels=False)"
   ]
  },
  {
   "cell_type": "code",
   "execution_count": 58,
   "metadata": {},
   "outputs": [
    {
     "data": {
      "text/plain": [
       "0           0\n",
       "1           0\n",
       "2           0\n",
       "3           1\n",
       "4           1\n",
       "5           1\n",
       "6           2\n",
       "7           2\n",
       "8           2\n",
       "9           0\n",
       "10          0\n",
       "11          0\n",
       "12          1\n",
       "13          1\n",
       "14          1\n",
       "15          2\n",
       "16          2\n",
       "17          0\n",
       "18          0\n",
       "19          0\n",
       "20          1\n",
       "21          1\n",
       "22          1\n",
       "23          2\n",
       "24          2\n",
       "25          2\n",
       "26          2\n",
       "27          2\n",
       "28          3\n",
       "29          3\n",
       "           ..\n",
       "32434459    1\n",
       "32434460    1\n",
       "32434461    1\n",
       "32434462    2\n",
       "32434463    2\n",
       "32434464    2\n",
       "32434465    0\n",
       "32434466    0\n",
       "32434467    0\n",
       "32434468    1\n",
       "32434469    1\n",
       "32434470    1\n",
       "32434471    2\n",
       "32434472    0\n",
       "32434473    0\n",
       "32434474    0\n",
       "32434475    1\n",
       "32434476    1\n",
       "32434477    1\n",
       "32434478    2\n",
       "32434479    0\n",
       "32434480    0\n",
       "32434481    0\n",
       "32434482    1\n",
       "32434483    1\n",
       "32434484    1\n",
       "32434485    2\n",
       "32434486    2\n",
       "32434487    2\n",
       "32434488    2\n",
       "Name: add_to_cart_order, Length: 32434489, dtype: int64"
      ]
     },
     "execution_count": 58,
     "metadata": {},
     "output_type": "execute_result"
    }
   ],
   "source": [
    "pd.qcut(order_products__prior_df['add_to_cart_order'], 4, labels=False)"
   ]
  },
  {
   "cell_type": "code",
   "execution_count": 60,
   "metadata": {},
   "outputs": [
    {
     "data": {
      "text/plain": [
       "0          0\n",
       "1          0\n",
       "2          0\n",
       "3          0\n",
       "4          0\n",
       "5          0\n",
       "6          0\n",
       "7          0\n",
       "8          0\n",
       "9          0\n",
       "10         0\n",
       "11         0\n",
       "12         0\n",
       "13         0\n",
       "14         0\n",
       "15         0\n",
       "16         0\n",
       "17         0\n",
       "18         0\n",
       "19         0\n",
       "20         0\n",
       "21         0\n",
       "22         0\n",
       "23         0\n",
       "24         0\n",
       "25         0\n",
       "26         0\n",
       "27         0\n",
       "28         0\n",
       "29         0\n",
       "          ..\n",
       "1384587    3\n",
       "1384588    3\n",
       "1384589    3\n",
       "1384590    3\n",
       "1384591    3\n",
       "1384592    3\n",
       "1384593    3\n",
       "1384594    3\n",
       "1384595    3\n",
       "1384596    3\n",
       "1384597    3\n",
       "1384598    3\n",
       "1384599    3\n",
       "1384600    3\n",
       "1384601    3\n",
       "1384602    3\n",
       "1384603    3\n",
       "1384604    3\n",
       "1384605    3\n",
       "1384606    3\n",
       "1384607    3\n",
       "1384608    3\n",
       "1384609    3\n",
       "1384610    3\n",
       "1384611    3\n",
       "1384612    3\n",
       "1384613    3\n",
       "1384614    3\n",
       "1384615    3\n",
       "1384616    3\n",
       "Name: order_id, Length: 1384617, dtype: int64"
      ]
     },
     "execution_count": 60,
     "metadata": {},
     "output_type": "execute_result"
    }
   ],
   "source": [
    "\n",
    "pd.qcut(order_products__train_df['order_id'], 4, labels=False)"
   ]
  },
  {
   "cell_type": "code",
   "execution_count": 61,
   "metadata": {},
   "outputs": [
    {
     "data": {
      "text/plain": [
       "0          3\n",
       "1          0\n",
       "2          0\n",
       "3          3\n",
       "4          3\n",
       "5          0\n",
       "6          3\n",
       "7          1\n",
       "8          3\n",
       "9          1\n",
       "10         3\n",
       "11         3\n",
       "12         3\n",
       "13         2\n",
       "14         3\n",
       "15         3\n",
       "16         0\n",
       "17         1\n",
       "18         0\n",
       "19         1\n",
       "20         1\n",
       "21         2\n",
       "22         2\n",
       "23         3\n",
       "24         3\n",
       "25         1\n",
       "26         2\n",
       "27         3\n",
       "28         2\n",
       "29         2\n",
       "          ..\n",
       "1384587    2\n",
       "1384588    0\n",
       "1384589    0\n",
       "1384590    0\n",
       "1384591    3\n",
       "1384592    1\n",
       "1384593    2\n",
       "1384594    1\n",
       "1384595    2\n",
       "1384596    2\n",
       "1384597    0\n",
       "1384598    0\n",
       "1384599    1\n",
       "1384600    1\n",
       "1384601    0\n",
       "1384602    1\n",
       "1384603    0\n",
       "1384604    2\n",
       "1384605    0\n",
       "1384606    0\n",
       "1384607    2\n",
       "1384608    2\n",
       "1384609    2\n",
       "1384610    3\n",
       "1384611    1\n",
       "1384612    1\n",
       "1384613    2\n",
       "1384614    2\n",
       "1384615    1\n",
       "1384616    0\n",
       "Name: product_id, Length: 1384617, dtype: int64"
      ]
     },
     "execution_count": 61,
     "metadata": {},
     "output_type": "execute_result"
    }
   ],
   "source": [
    "pd.qcut(order_products__train_df['product_id'], 4, labels=False)"
   ]
  },
  {
   "cell_type": "code",
   "execution_count": 62,
   "metadata": {},
   "outputs": [
    {
     "data": {
      "text/plain": [
       "0          0\n",
       "1          0\n",
       "2          0\n",
       "3          1\n",
       "4          1\n",
       "5          1\n",
       "6          1\n",
       "7          2\n",
       "8          0\n",
       "9          0\n",
       "10         0\n",
       "11         1\n",
       "12         1\n",
       "13         1\n",
       "14         1\n",
       "15         2\n",
       "16         0\n",
       "17         0\n",
       "18         0\n",
       "19         1\n",
       "20         1\n",
       "21         1\n",
       "22         1\n",
       "23         2\n",
       "24         2\n",
       "25         0\n",
       "26         0\n",
       "27         0\n",
       "28         1\n",
       "29         1\n",
       "          ..\n",
       "1384587    0\n",
       "1384588    1\n",
       "1384589    1\n",
       "1384590    1\n",
       "1384591    0\n",
       "1384592    0\n",
       "1384593    0\n",
       "1384594    1\n",
       "1384595    1\n",
       "1384596    1\n",
       "1384597    0\n",
       "1384598    0\n",
       "1384599    0\n",
       "1384600    1\n",
       "1384601    1\n",
       "1384602    0\n",
       "1384603    0\n",
       "1384604    0\n",
       "1384605    1\n",
       "1384606    1\n",
       "1384607    1\n",
       "1384608    1\n",
       "1384609    2\n",
       "1384610    0\n",
       "1384611    0\n",
       "1384612    0\n",
       "1384613    1\n",
       "1384614    0\n",
       "1384615    0\n",
       "1384616    0\n",
       "Name: add_to_cart_order, Length: 1384617, dtype: int64"
      ]
     },
     "execution_count": 62,
     "metadata": {},
     "output_type": "execute_result"
    }
   ],
   "source": [
    "pd.qcut(order_products__train_df['add_to_cart_order'], 4, labels=False)"
   ]
  },
  {
   "cell_type": "code",
   "execution_count": 63,
   "metadata": {},
   "outputs": [
    {
     "ename": "ValueError",
     "evalue": "Bin edges must be unique: array([0, 0, 1, 1, 1]).\nYou can drop duplicate edges by setting the 'duplicates' kwarg",
     "output_type": "error",
     "traceback": [
      "\u001b[0;31m---------------------------------------------------------------------------\u001b[0m",
      "\u001b[0;31mValueError\u001b[0m                                Traceback (most recent call last)",
      "\u001b[0;32m<ipython-input-63-1fde2fa93572>\u001b[0m in \u001b[0;36m<module>\u001b[0;34m\u001b[0m\n\u001b[0;32m----> 1\u001b[0;31m \u001b[0mpd\u001b[0m\u001b[0;34m.\u001b[0m\u001b[0mqcut\u001b[0m\u001b[0;34m(\u001b[0m\u001b[0morder_products__train_df\u001b[0m\u001b[0;34m[\u001b[0m\u001b[0;34m'reordered'\u001b[0m\u001b[0;34m]\u001b[0m\u001b[0;34m,\u001b[0m \u001b[0;36m4\u001b[0m\u001b[0;34m,\u001b[0m \u001b[0mlabels\u001b[0m\u001b[0;34m=\u001b[0m\u001b[0;32mFalse\u001b[0m\u001b[0;34m)\u001b[0m\u001b[0;34m\u001b[0m\u001b[0;34m\u001b[0m\u001b[0m\n\u001b[0m",
      "\u001b[0;32m~/anaconda3/lib/python3.7/site-packages/pandas/core/reshape/tile.py\u001b[0m in \u001b[0;36mqcut\u001b[0;34m(x, q, labels, retbins, precision, duplicates)\u001b[0m\n\u001b[1;32m    304\u001b[0m     fac, bins = _bins_to_cuts(x, bins, labels=labels,\n\u001b[1;32m    305\u001b[0m                               \u001b[0mprecision\u001b[0m\u001b[0;34m=\u001b[0m\u001b[0mprecision\u001b[0m\u001b[0;34m,\u001b[0m \u001b[0minclude_lowest\u001b[0m\u001b[0;34m=\u001b[0m\u001b[0;32mTrue\u001b[0m\u001b[0;34m,\u001b[0m\u001b[0;34m\u001b[0m\u001b[0;34m\u001b[0m\u001b[0m\n\u001b[0;32m--> 306\u001b[0;31m                               dtype=dtype, duplicates=duplicates)\n\u001b[0m\u001b[1;32m    307\u001b[0m \u001b[0;34m\u001b[0m\u001b[0m\n\u001b[1;32m    308\u001b[0m     return _postprocess_for_cut(fac, bins, retbins, x_is_series,\n",
      "\u001b[0;32m~/anaconda3/lib/python3.7/site-packages/pandas/core/reshape/tile.py\u001b[0m in \u001b[0;36m_bins_to_cuts\u001b[0;34m(x, bins, right, labels, precision, include_lowest, dtype, duplicates)\u001b[0m\n\u001b[1;32m    330\u001b[0m             raise ValueError(\"Bin edges must be unique: {bins!r}.\\nYou \"\n\u001b[1;32m    331\u001b[0m                              \u001b[0;34m\"can drop duplicate edges by setting \"\u001b[0m\u001b[0;34m\u001b[0m\u001b[0;34m\u001b[0m\u001b[0m\n\u001b[0;32m--> 332\u001b[0;31m                              \"the 'duplicates' kwarg\".format(bins=bins))\n\u001b[0m\u001b[1;32m    333\u001b[0m         \u001b[0;32melse\u001b[0m\u001b[0;34m:\u001b[0m\u001b[0;34m\u001b[0m\u001b[0;34m\u001b[0m\u001b[0m\n\u001b[1;32m    334\u001b[0m             \u001b[0mbins\u001b[0m \u001b[0;34m=\u001b[0m \u001b[0munique_bins\u001b[0m\u001b[0;34m\u001b[0m\u001b[0;34m\u001b[0m\u001b[0m\n",
      "\u001b[0;31mValueError\u001b[0m: Bin edges must be unique: array([0, 0, 1, 1, 1]).\nYou can drop duplicate edges by setting the 'duplicates' kwarg"
     ]
    }
   ],
   "source": [
    "pd.qcut(order_products__train_df['reordered'], 4, labels=False)"
   ]
  },
  {
   "cell_type": "code",
   "execution_count": 64,
   "metadata": {},
   "outputs": [
    {
     "data": {
      "text/plain": [
       "0          2\n",
       "1          2\n",
       "2          0\n",
       "3          2\n",
       "4          0\n",
       "5          3\n",
       "6          0\n",
       "7          3\n",
       "8          2\n",
       "9          2\n",
       "10         1\n",
       "11         2\n",
       "12         1\n",
       "13         2\n",
       "14         0\n",
       "15         1\n",
       "16         1\n",
       "17         3\n",
       "18         0\n",
       "19         2\n",
       "20         1\n",
       "21         1\n",
       "22         3\n",
       "23         3\n",
       "24         0\n",
       "25         1\n",
       "26         1\n",
       "27         0\n",
       "28         3\n",
       "29         2\n",
       "          ..\n",
       "3421053    3\n",
       "3421054    0\n",
       "3421055    1\n",
       "3421056    3\n",
       "3421057    3\n",
       "3421058    3\n",
       "3421059    0\n",
       "3421060    3\n",
       "3421061    0\n",
       "3421062    2\n",
       "3421063    3\n",
       "3421064    3\n",
       "3421065    2\n",
       "3421066    1\n",
       "3421067    2\n",
       "3421068    0\n",
       "3421069    3\n",
       "3421070    2\n",
       "3421071    1\n",
       "3421072    0\n",
       "3421073    2\n",
       "3421074    3\n",
       "3421075    0\n",
       "3421076    2\n",
       "3421077    2\n",
       "3421078    2\n",
       "3421079    2\n",
       "3421080    0\n",
       "3421081    3\n",
       "3421082    0\n",
       "Name: order_id, Length: 3421083, dtype: int64"
      ]
     },
     "execution_count": 64,
     "metadata": {},
     "output_type": "execute_result"
    }
   ],
   "source": [
    "\n",
    "pd.qcut(orders_df['order_id'], 4, labels=False)"
   ]
  },
  {
   "cell_type": "code",
   "execution_count": 67,
   "metadata": {},
   "outputs": [
    {
     "data": {
      "text/plain": [
       "0          0\n",
       "1          0\n",
       "2          0\n",
       "3          0\n",
       "4          0\n",
       "5          1\n",
       "6          1\n",
       "7          1\n",
       "8          1\n",
       "9          1\n",
       "10         1\n",
       "11         0\n",
       "12         0\n",
       "13         0\n",
       "14         0\n",
       "15         0\n",
       "16         1\n",
       "17         1\n",
       "18         1\n",
       "19         1\n",
       "20         1\n",
       "21         1\n",
       "22         2\n",
       "23         2\n",
       "24         2\n",
       "25         2\n",
       "26         0\n",
       "27         0\n",
       "28         0\n",
       "29         0\n",
       "          ..\n",
       "3421053    3\n",
       "3421054    3\n",
       "3421055    3\n",
       "3421056    3\n",
       "3421057    3\n",
       "3421058    3\n",
       "3421059    3\n",
       "3421060    3\n",
       "3421061    3\n",
       "3421062    3\n",
       "3421063    3\n",
       "3421064    3\n",
       "3421065    3\n",
       "3421066    3\n",
       "3421067    3\n",
       "3421068    3\n",
       "3421069    0\n",
       "3421070    0\n",
       "3421071    0\n",
       "3421072    0\n",
       "3421073    0\n",
       "3421074    1\n",
       "3421075    1\n",
       "3421076    1\n",
       "3421077    1\n",
       "3421078    1\n",
       "3421079    1\n",
       "3421080    2\n",
       "3421081    2\n",
       "3421082    2\n",
       "Name: order_number, Length: 3421083, dtype: int64"
      ]
     },
     "execution_count": 67,
     "metadata": {},
     "output_type": "execute_result"
    }
   ],
   "source": [
    "pd.qcut(orders_df['order_number'], 4, labels=False)"
   ]
  },
  {
   "cell_type": "code",
   "execution_count": 68,
   "metadata": {},
   "outputs": [
    {
     "data": {
      "text/plain": [
       "0          1\n",
       "1          1\n",
       "2          1\n",
       "3          2\n",
       "4          2\n",
       "5          1\n",
       "6          0\n",
       "7          0\n",
       "8          0\n",
       "9          2\n",
       "10         2\n",
       "11         1\n",
       "12         2\n",
       "13         0\n",
       "14         1\n",
       "15         1\n",
       "16         1\n",
       "17         1\n",
       "18         0\n",
       "19         1\n",
       "20         0\n",
       "21         0\n",
       "22         0\n",
       "23         2\n",
       "24         1\n",
       "25         0\n",
       "26         0\n",
       "27         1\n",
       "28         1\n",
       "29         1\n",
       "          ..\n",
       "3421053    1\n",
       "3421054    3\n",
       "3421055    1\n",
       "3421056    0\n",
       "3421057    1\n",
       "3421058    2\n",
       "3421059    1\n",
       "3421060    0\n",
       "3421061    2\n",
       "3421062    3\n",
       "3421063    1\n",
       "3421064    0\n",
       "3421065    1\n",
       "3421066    0\n",
       "3421067    0\n",
       "3421068    2\n",
       "3421069    1\n",
       "3421070    1\n",
       "3421071    2\n",
       "3421072    0\n",
       "3421073    2\n",
       "3421074    0\n",
       "3421075    1\n",
       "3421076    1\n",
       "3421077    2\n",
       "3421078    2\n",
       "3421079    2\n",
       "3421080    0\n",
       "3421081    0\n",
       "3421082    3\n",
       "Name: order_dow, Length: 3421083, dtype: int64"
      ]
     },
     "execution_count": 68,
     "metadata": {},
     "output_type": "execute_result"
    }
   ],
   "source": [
    "pd.qcut(orders_df['order_dow'], 4, labels=False)"
   ]
  },
  {
   "cell_type": "code",
   "execution_count": 69,
   "metadata": {},
   "outputs": [
    {
     "data": {
      "text/plain": [
       "0          0\n",
       "1          0\n",
       "2          1\n",
       "3          0\n",
       "4          2\n",
       "5          0\n",
       "6          0\n",
       "7          2\n",
       "8          2\n",
       "9          0\n",
       "10         0\n",
       "11         1\n",
       "12         0\n",
       "13         0\n",
       "14         0\n",
       "15         1\n",
       "16         0\n",
       "17         1\n",
       "18         2\n",
       "19         0\n",
       "20         1\n",
       "21         0\n",
       "22         0\n",
       "23         1\n",
       "24         0\n",
       "25         1\n",
       "26         2\n",
       "27         3\n",
       "28         2\n",
       "29         3\n",
       "          ..\n",
       "3421053    3\n",
       "3421054    2\n",
       "3421055    1\n",
       "3421056    2\n",
       "3421057    2\n",
       "3421058    0\n",
       "3421059    2\n",
       "3421060    3\n",
       "3421061    2\n",
       "3421062    2\n",
       "3421063    1\n",
       "3421064    0\n",
       "3421065    0\n",
       "3421066    1\n",
       "3421067    3\n",
       "3421068    1\n",
       "3421069    1\n",
       "3421070    3\n",
       "3421071    1\n",
       "3421072    0\n",
       "3421073    2\n",
       "3421074    2\n",
       "3421075    1\n",
       "3421076    3\n",
       "3421077    2\n",
       "3421078    3\n",
       "3421079    0\n",
       "3421080    1\n",
       "3421081    1\n",
       "3421082    2\n",
       "Name: order_hour_of_day, Length: 3421083, dtype: int64"
      ]
     },
     "execution_count": 69,
     "metadata": {},
     "output_type": "execute_result"
    }
   ],
   "source": [
    "pd.qcut(orders_df['order_hour_of_day'], 4, labels=False)"
   ]
  },
  {
   "cell_type": "code",
   "execution_count": 70,
   "metadata": {},
   "outputs": [
    {
     "data": {
      "text/plain": [
       "0          NaN\n",
       "1          2.0\n",
       "2          3.0\n",
       "3          3.0\n",
       "4          3.0\n",
       "5          3.0\n",
       "6          3.0\n",
       "7          2.0\n",
       "8          0.0\n",
       "9          3.0\n",
       "10         2.0\n",
       "11         NaN\n",
       "12         2.0\n",
       "13         0.0\n",
       "14         2.0\n",
       "15         2.0\n",
       "16         2.0\n",
       "17         2.0\n",
       "18         3.0\n",
       "19         2.0\n",
       "20         1.0\n",
       "21         3.0\n",
       "22         3.0\n",
       "23         3.0\n",
       "24         2.0\n",
       "25         3.0\n",
       "26         NaN\n",
       "27         2.0\n",
       "28         3.0\n",
       "29         3.0\n",
       "          ... \n",
       "3421053    0.0\n",
       "3421054    2.0\n",
       "3421055    0.0\n",
       "3421056    3.0\n",
       "3421057    2.0\n",
       "3421058    2.0\n",
       "3421059    2.0\n",
       "3421060    1.0\n",
       "3421061    0.0\n",
       "3421062    0.0\n",
       "3421063    0.0\n",
       "3421064    2.0\n",
       "3421065    2.0\n",
       "3421066    1.0\n",
       "3421067    1.0\n",
       "3421068    0.0\n",
       "3421069    NaN\n",
       "3421070    1.0\n",
       "3421071    3.0\n",
       "3421072    3.0\n",
       "3421073    0.0\n",
       "3421074    0.0\n",
       "3421075    2.0\n",
       "3421076    3.0\n",
       "3421077    3.0\n",
       "3421078    3.0\n",
       "3421079    3.0\n",
       "3421080    3.0\n",
       "3421081    1.0\n",
       "3421082    3.0\n",
       "Name: days_since_prior_order, Length: 3421083, dtype: float64"
      ]
     },
     "execution_count": 70,
     "metadata": {},
     "output_type": "execute_result"
    }
   ],
   "source": [
    "pd.qcut(orders_df['days_since_prior_order'], 4, labels=False)"
   ]
  },
  {
   "cell_type": "code",
   "execution_count": 71,
   "metadata": {},
   "outputs": [
    {
     "data": {
      "text/plain": [
       "0        0\n",
       "1        0\n",
       "2        0\n",
       "3        0\n",
       "4        0\n",
       "5        0\n",
       "6        0\n",
       "7        0\n",
       "8        0\n",
       "9        0\n",
       "10       0\n",
       "11       0\n",
       "12       0\n",
       "13       0\n",
       "14       0\n",
       "15       0\n",
       "16       0\n",
       "17       0\n",
       "18       0\n",
       "19       0\n",
       "20       0\n",
       "21       0\n",
       "22       0\n",
       "23       0\n",
       "24       0\n",
       "25       0\n",
       "26       0\n",
       "27       0\n",
       "28       0\n",
       "29       0\n",
       "        ..\n",
       "49658    3\n",
       "49659    3\n",
       "49660    3\n",
       "49661    3\n",
       "49662    3\n",
       "49663    3\n",
       "49664    3\n",
       "49665    3\n",
       "49666    3\n",
       "49667    3\n",
       "49668    3\n",
       "49669    3\n",
       "49670    3\n",
       "49671    3\n",
       "49672    3\n",
       "49673    3\n",
       "49674    3\n",
       "49675    3\n",
       "49676    3\n",
       "49677    3\n",
       "49678    3\n",
       "49679    3\n",
       "49680    3\n",
       "49681    3\n",
       "49682    3\n",
       "49683    3\n",
       "49684    3\n",
       "49685    3\n",
       "49686    3\n",
       "49687    3\n",
       "Name: product_id, Length: 49688, dtype: int64"
      ]
     },
     "execution_count": 71,
     "metadata": {},
     "output_type": "execute_result"
    }
   ],
   "source": [
    "pd.qcut(products_df['product_id'], 4, labels=False)"
   ]
  },
  {
   "cell_type": "code",
   "execution_count": 73,
   "metadata": {},
   "outputs": [
    {
     "data": {
      "text/plain": [
       "0        1\n",
       "1        3\n",
       "2        2\n",
       "3        1\n",
       "4        0\n",
       "5        0\n",
       "6        2\n",
       "7        3\n",
       "8        3\n",
       "9        3\n",
       "10       0\n",
       "11       3\n",
       "12       0\n",
       "13       2\n",
       "14       1\n",
       "15       3\n",
       "16       0\n",
       "17       2\n",
       "18       1\n",
       "19       2\n",
       "20       1\n",
       "21       0\n",
       "22       1\n",
       "23       1\n",
       "24       0\n",
       "25       1\n",
       "26       3\n",
       "27       3\n",
       "28       2\n",
       "29       1\n",
       "        ..\n",
       "49658    0\n",
       "49659    0\n",
       "49660    3\n",
       "49661    3\n",
       "49662    1\n",
       "49663    2\n",
       "49664    1\n",
       "49665    1\n",
       "49666    1\n",
       "49667    3\n",
       "49668    2\n",
       "49669    3\n",
       "49670    1\n",
       "49671    0\n",
       "49672    3\n",
       "49673    1\n",
       "49674    0\n",
       "49675    1\n",
       "49676    1\n",
       "49677    3\n",
       "49678    1\n",
       "49679    2\n",
       "49680    1\n",
       "49681    2\n",
       "49682    2\n",
       "49683    3\n",
       "49684    1\n",
       "49685    3\n",
       "49686    1\n",
       "49687    2\n",
       "Name: aisle_id, Length: 49688, dtype: int64"
      ]
     },
     "execution_count": 73,
     "metadata": {},
     "output_type": "execute_result"
    }
   ],
   "source": [
    "pd.qcut(products_df['aisle_id'], 4, labels=False)"
   ]
  },
  {
   "cell_type": "code",
   "execution_count": null,
   "metadata": {},
   "outputs": [],
   "source": [
    "pd.qcut(products_df['department_id'], 4, labels=False)\n",
    "\n",
    "pd.qcut(aisles_df['aisle'], 4, labels=False)\n",
    "\n",
    "pd.qcut(departments_df['department'], 4, labels=False)"
   ]
  }
 ],
 "metadata": {
  "kernelspec": {
   "display_name": "Python 3",
   "language": "python",
   "name": "python3"
  },
  "language_info": {
   "codemirror_mode": {
    "name": "ipython",
    "version": 3
   },
   "file_extension": ".py",
   "mimetype": "text/x-python",
   "name": "python",
   "nbconvert_exporter": "python",
   "pygments_lexer": "ipython3",
   "version": "3.7.1"
  }
 },
 "nbformat": 4,
 "nbformat_minor": 2
}
